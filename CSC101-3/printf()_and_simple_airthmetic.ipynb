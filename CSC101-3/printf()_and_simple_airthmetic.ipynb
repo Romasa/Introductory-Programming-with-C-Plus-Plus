{
  "nbformat": 4,
  "nbformat_minor": 0,
  "metadata": {
    "colab": {
      "name": "printf() and simple airthmetic.ipynb",
      "provenance": [],
      "authorship_tag": "ABX9TyNAUbuKKxP/cvdFEevAei1F",
      "include_colab_link": true
    },
    "kernelspec": {
      "name": "python3",
      "display_name": "Python 3"
    }
  },
  "cells": [
    {
      "cell_type": "markdown",
      "metadata": {
        "id": "view-in-github",
        "colab_type": "text"
      },
      "source": [
        "<a href=\"https://colab.research.google.com/github/Romasa/Introductory-Programming-with-C-Plus-Plus/blob/main/CSC101-3/printf()_and_simple_airthmetic.ipynb\" target=\"_parent\"><img src=\"https://colab.research.google.com/assets/colab-badge.svg\" alt=\"Open In Colab\"/></a>"
      ]
    },
    {
      "cell_type": "markdown",
      "metadata": {
        "id": "HeJCrka_o78C"
      },
      "source": [
        "This is the first program which introduces the use of printf(). \r\n",
        "\r\n",
        "```\r\n",
        "#include<iostream>  //Preprocessor Directives (this is an example of inline comment starting with //)\r\n",
        "\r\n",
        "/* This is an example of blocked comment which means that if you want to create multilined comments then it should be enclosed this way.\r\n",
        "\tAnd this comment is going to tell you more about this program, that this will do some printing job\r\n",
        "*/\r\n",
        "\r\n",
        "int main()                                       // main is a miscelleneous function. Your program should have exactly one main() function\r\n",
        "{\r\n",
        "\tprintf(\"Hello World! \\n\");                     // printf() is a function, which prints on console the value we give it as an input\r\n",
        "                                                 // In the line above, \\n is used to feed new line on the console. \\n is an escape character\r\n",
        "\tprintf(\"Welcome to \\\\CSC101\\\\. \\n\\n\"); \r\n",
        "\tprintf(\"Socarates said,\\t \\\"Man is mortal\\\"\"); // \\t is another escape character, which insert 4 spaces in the console\r\n",
        "\treturn 0;                                      // returning the value 0\r\n",
        "}\r\n",
        "```"
      ]
    },
    {
      "cell_type": "markdown",
      "metadata": {
        "id": "3c3yp4rPJ0j_"
      },
      "source": [
        "1. \r\n",
        "The following program creates a simple integer type variable named \"taka\". This program takes the amount in taka as input from the user and convert it into dollars. \r\n",
        "\r\n",
        "```\r\n",
        "#include <iostream>\r\n",
        "using namespace std;\r\n",
        "\r\n",
        "int main()\r\n",
        "{\r\n",
        "    int taka;\r\n",
        "    std::cout << \"Enter BD taka:\";\r\n",
        "    std::cin >> taka;\r\n",
        "\r\n",
        "    float dollar = taka / 84.73;\r\n",
        "    //std::cout << \"BDT \" << taka << \" = $\" << dollar << std::endl;\r\n",
        "    printf(\"BDT %d = $%.2f\\n\", taka, dollar);\r\n",
        "}\r\n",
        "```"
      ]
    },
    {
      "cell_type": "markdown",
      "metadata": {
        "id": "2SbjK6NSklzU"
      },
      "source": [
        "2. The program below calculates the time difference between two given times. __Input__ of the program are four integer values, starting time in hours *sh*, starting time in minutes *sm*, ending time in houres *eh* and ending time in minutes *em*. __Output__ of the program is the time difference in minutes *totalminutes*, assuming that the starting and ending time is always in a single day and ending hour is always greater than starting hours. \r\n",
        "\r\n",
        "```\r\n",
        "#include<iostream>\r\n",
        "using namespace std;\r\n",
        "\r\n",
        "int main()\r\n",
        "{\r\n",
        "\tint s_h;\r\n",
        "\tint s_m;\r\n",
        "\tint e_h;\r\n",
        "\tint e_m;\r\n",
        "\r\n",
        "\tstd::cout << \"Enter starting hours:\";\r\n",
        "\tstd::cin >> s_h;\r\n",
        "\tstd::cout << \"Enter starting minutes:\";\r\n",
        "\tstd::cin >> s_m;\r\n",
        "\r\n",
        "\tstd::cout << \"Enter ending hours:\";\r\n",
        "\tstd::cin >> e_h;\r\n",
        "\tstd::cout << \"Enter ending minutes:\";\r\n",
        "\tstd::cin >> e_m;\r\n",
        "\t\r\n",
        "\r\n",
        "\tint start_time = s_h * 60 + s_m;\r\n",
        "\tint end_time = e_h * 60 + e_m;\r\n",
        "\r\n",
        "\tint totalminutes = end_time - start_time;\r\n",
        "\r\n",
        "\tprintf(\"total minute = %d\", totalminutes);\r\n",
        "\r\n",
        "}\r\n",
        "```\r\n"
      ]
    }
  ]
}